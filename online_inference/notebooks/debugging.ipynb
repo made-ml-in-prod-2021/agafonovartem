{
 "cells": [
  {
   "cell_type": "code",
   "execution_count": 4,
   "id": "vulnerable-disaster",
   "metadata": {},
   "outputs": [],
   "source": [
    "import pandas as pd\n",
    "from src.utils import make_predict, load_object"
   ]
  },
  {
   "cell_type": "code",
   "execution_count": 5,
   "id": "visible-palestine",
   "metadata": {},
   "outputs": [
    {
     "name": "stdout",
     "output_type": "stream",
     "text": [
      "/Users/artem/Documents/MADE/sem2/ml_prod/online_inference/notebooks\n"
     ]
    }
   ],
   "source": [
    "cd notebooks/"
   ]
  },
  {
   "cell_type": "code",
   "execution_count": 6,
   "id": "departmental-decimal",
   "metadata": {},
   "outputs": [],
   "source": [
    "MODEL_PATH = \"../models/model.pkl\"\n",
    "TRANSFORMER_PATH = \"../transformers/transformer.pkl\"\n",
    "DATA_PATH = \"../data/raw/heart.csv\""
   ]
  },
  {
   "cell_type": "code",
   "execution_count": 33,
   "id": "distant-provincial",
   "metadata": {},
   "outputs": [],
   "source": [
    "data = pd.read_csv(DATA_PATH)"
   ]
  },
  {
   "cell_type": "code",
   "execution_count": 34,
   "id": "medical-elements",
   "metadata": {},
   "outputs": [
    {
     "data": {
      "text/html": [
       "<div>\n",
       "<style scoped>\n",
       "    .dataframe tbody tr th:only-of-type {\n",
       "        vertical-align: middle;\n",
       "    }\n",
       "\n",
       "    .dataframe tbody tr th {\n",
       "        vertical-align: top;\n",
       "    }\n",
       "\n",
       "    .dataframe thead th {\n",
       "        text-align: right;\n",
       "    }\n",
       "</style>\n",
       "<table border=\"1\" class=\"dataframe\">\n",
       "  <thead>\n",
       "    <tr style=\"text-align: right;\">\n",
       "      <th></th>\n",
       "      <th>age</th>\n",
       "      <th>sex</th>\n",
       "      <th>cp</th>\n",
       "      <th>trestbps</th>\n",
       "      <th>chol</th>\n",
       "      <th>fbs</th>\n",
       "      <th>restecg</th>\n",
       "      <th>thalach</th>\n",
       "      <th>exang</th>\n",
       "      <th>oldpeak</th>\n",
       "      <th>slope</th>\n",
       "      <th>ca</th>\n",
       "      <th>thal</th>\n",
       "      <th>target</th>\n",
       "    </tr>\n",
       "  </thead>\n",
       "  <tbody>\n",
       "    <tr>\n",
       "      <th>0</th>\n",
       "      <td>63</td>\n",
       "      <td>1</td>\n",
       "      <td>3</td>\n",
       "      <td>145</td>\n",
       "      <td>233</td>\n",
       "      <td>1</td>\n",
       "      <td>0</td>\n",
       "      <td>150</td>\n",
       "      <td>0</td>\n",
       "      <td>2.3</td>\n",
       "      <td>0</td>\n",
       "      <td>0</td>\n",
       "      <td>1</td>\n",
       "      <td>1</td>\n",
       "    </tr>\n",
       "    <tr>\n",
       "      <th>1</th>\n",
       "      <td>37</td>\n",
       "      <td>1</td>\n",
       "      <td>2</td>\n",
       "      <td>130</td>\n",
       "      <td>250</td>\n",
       "      <td>0</td>\n",
       "      <td>1</td>\n",
       "      <td>187</td>\n",
       "      <td>0</td>\n",
       "      <td>3.5</td>\n",
       "      <td>0</td>\n",
       "      <td>0</td>\n",
       "      <td>2</td>\n",
       "      <td>1</td>\n",
       "    </tr>\n",
       "    <tr>\n",
       "      <th>2</th>\n",
       "      <td>41</td>\n",
       "      <td>0</td>\n",
       "      <td>1</td>\n",
       "      <td>130</td>\n",
       "      <td>204</td>\n",
       "      <td>0</td>\n",
       "      <td>0</td>\n",
       "      <td>172</td>\n",
       "      <td>0</td>\n",
       "      <td>1.4</td>\n",
       "      <td>2</td>\n",
       "      <td>0</td>\n",
       "      <td>2</td>\n",
       "      <td>1</td>\n",
       "    </tr>\n",
       "    <tr>\n",
       "      <th>3</th>\n",
       "      <td>56</td>\n",
       "      <td>1</td>\n",
       "      <td>1</td>\n",
       "      <td>120</td>\n",
       "      <td>236</td>\n",
       "      <td>0</td>\n",
       "      <td>1</td>\n",
       "      <td>178</td>\n",
       "      <td>0</td>\n",
       "      <td>0.8</td>\n",
       "      <td>2</td>\n",
       "      <td>0</td>\n",
       "      <td>2</td>\n",
       "      <td>1</td>\n",
       "    </tr>\n",
       "    <tr>\n",
       "      <th>4</th>\n",
       "      <td>57</td>\n",
       "      <td>0</td>\n",
       "      <td>0</td>\n",
       "      <td>120</td>\n",
       "      <td>354</td>\n",
       "      <td>0</td>\n",
       "      <td>1</td>\n",
       "      <td>163</td>\n",
       "      <td>1</td>\n",
       "      <td>0.6</td>\n",
       "      <td>2</td>\n",
       "      <td>0</td>\n",
       "      <td>2</td>\n",
       "      <td>1</td>\n",
       "    </tr>\n",
       "  </tbody>\n",
       "</table>\n",
       "</div>"
      ],
      "text/plain": [
       "   age  sex  cp  trestbps  chol  fbs  restecg  thalach  exang  oldpeak  slope  \\\n",
       "0   63    1   3       145   233    1        0      150      0      2.3      0   \n",
       "1   37    1   2       130   250    0        1      187      0      3.5      0   \n",
       "2   41    0   1       130   204    0        0      172      0      1.4      2   \n",
       "3   56    1   1       120   236    0        1      178      0      0.8      2   \n",
       "4   57    0   0       120   354    0        1      163      1      0.6      2   \n",
       "\n",
       "   ca  thal  target  \n",
       "0   0     1       1  \n",
       "1   0     2       1  \n",
       "2   0     2       1  \n",
       "3   0     2       1  \n",
       "4   0     2       1  "
      ]
     },
     "execution_count": 34,
     "metadata": {},
     "output_type": "execute_result"
    }
   ],
   "source": [
    "data.head()"
   ]
  },
  {
   "cell_type": "code",
   "execution_count": 25,
   "id": "aggressive-administrator",
   "metadata": {},
   "outputs": [],
   "source": [
    "data_to_predict = data.iloc[0:2].values[:, :-1].tolist()\n",
    "features = data.columns[:-1].values.tolist()"
   ]
  },
  {
   "cell_type": "code",
   "execution_count": 26,
   "id": "incredible-development",
   "metadata": {},
   "outputs": [
    {
     "name": "stderr",
     "output_type": "stream",
     "text": [
      "/opt/anaconda3/lib/python3.7/site-packages/sklearn/base.py:334: UserWarning: Trying to unpickle estimator LogisticRegression from version 0.24.1 when using version 0.23.2. This might lead to breaking code or invalid results. Use at your own risk.\n",
      "  UserWarning)\n",
      "/opt/anaconda3/lib/python3.7/site-packages/sklearn/base.py:334: UserWarning: Trying to unpickle estimator SimpleImputer from version 0.24.1 when using version 0.23.2. This might lead to breaking code or invalid results. Use at your own risk.\n",
      "  UserWarning)\n",
      "/opt/anaconda3/lib/python3.7/site-packages/sklearn/base.py:334: UserWarning: Trying to unpickle estimator OneHotEncoder from version 0.24.1 when using version 0.23.2. This might lead to breaking code or invalid results. Use at your own risk.\n",
      "  UserWarning)\n",
      "/opt/anaconda3/lib/python3.7/site-packages/sklearn/base.py:334: UserWarning: Trying to unpickle estimator Pipeline from version 0.24.1 when using version 0.23.2. This might lead to breaking code or invalid results. Use at your own risk.\n",
      "  UserWarning)\n",
      "/opt/anaconda3/lib/python3.7/site-packages/sklearn/base.py:334: UserWarning: Trying to unpickle estimator ColumnTransformer from version 0.24.1 when using version 0.23.2. This might lead to breaking code or invalid results. Use at your own risk.\n",
      "  UserWarning)\n"
     ]
    }
   ],
   "source": [
    "model = load_object(MODEL_PATH)\n",
    "transformer = load_object(TRANSFORMER_PATH)"
   ]
  },
  {
   "cell_type": "code",
   "execution_count": 27,
   "id": "standing-scanning",
   "metadata": {},
   "outputs": [
    {
     "data": {
      "text/plain": [
       "[HeartDiseaseResponse(disease=0), HeartDiseaseResponse(disease=1)]"
      ]
     },
     "execution_count": 27,
     "metadata": {},
     "output_type": "execute_result"
    }
   ],
   "source": [
    "make_predict(data_to_predict, features, model, transformer)"
   ]
  },
  {
   "cell_type": "code",
   "execution_count": 37,
   "id": "compressed-coach",
   "metadata": {},
   "outputs": [],
   "source": [
    "data.iloc[[10, -1]].to_csv(\"data_test.csv\", index=False)"
   ]
  },
  {
   "cell_type": "code",
   "execution_count": 4,
   "id": "automotive-offset",
   "metadata": {},
   "outputs": [],
   "source": [
    "from dataclasses import dataclass\n",
    "from typing import List"
   ]
  },
  {
   "cell_type": "code",
   "execution_count": 5,
   "id": "independent-column",
   "metadata": {},
   "outputs": [],
   "source": [
    "@dataclass()\n",
    "class CategoricalFeature:\n",
    "    values: List[int]\n",
    "        \n",
    "FEATURE_TO_TYPE = {\n",
    "    \"age\": int,\n",
    "    \"sex\": CategoricalFeature(values=[0, 1]),\n",
    "    \"cp\": CategoricalFeature(values=[0, 1, 2, 3]),\n",
    "    \"trestbps\": float,\n",
    "    \"chol\": float,\n",
    "    \"fbs\": CategoricalFeature(values=[0, 1]),\n",
    "    \"restecg\": CategoricalFeature(values=[0, 1, 2]),\n",
    "    \"thalach\": float,\n",
    "    \"exang\": CategoricalFeature(values=[0, 1]),\n",
    "    \"oldpeak\": float,\n",
    "    \"slope\": CategoricalFeature(values=[0, 1, 2]),\n",
    "    \"ca\": CategoricalFeature(values=[0, 1, 2, 3]),\n",
    "    \"thal\": CategoricalFeature(values=[1, 2, 3]),\n",
    "}"
   ]
  },
  {
   "cell_type": "code",
   "execution_count": 9,
   "id": "arbitrary-brooks",
   "metadata": {},
   "outputs": [],
   "source": [
    "features_right_order = list(FEATURE_TO_TYPE.keys())"
   ]
  },
  {
   "cell_type": "code",
   "execution_count": 10,
   "id": "soviet-height",
   "metadata": {},
   "outputs": [
    {
     "ename": "AttributeError",
     "evalue": "'list' object has no attribute 'equals'",
     "output_type": "error",
     "traceback": [
      "\u001b[0;31m---------------------------------------------------------------------------\u001b[0m",
      "\u001b[0;31mAttributeError\u001b[0m                            Traceback (most recent call last)",
      "\u001b[0;32m<ipython-input-10-c314ebafc240>\u001b[0m in \u001b[0;36m<module>\u001b[0;34m\u001b[0m\n\u001b[0;32m----> 1\u001b[0;31m \u001b[0mfeatures_right_oreder\u001b[0m\u001b[0;34m.\u001b[0m\u001b[0mequals\u001b[0m\u001b[0;34m(\u001b[0m\u001b[0mfeatures_right_oreder\u001b[0m\u001b[0;34m)\u001b[0m\u001b[0;34m\u001b[0m\u001b[0;34m\u001b[0m\u001b[0m\n\u001b[0m",
      "\u001b[0;31mAttributeError\u001b[0m: 'list' object has no attribute 'equals'"
     ]
    }
   ],
   "source": [
    "features_right_oreder.equals(features_right_oreder)"
   ]
  },
  {
   "cell_type": "markdown",
   "id": "regular-swaziland",
   "metadata": {},
   "source": [
    "## REST API & ML\n",
    "#### Downloading  docker image\n",
    "```\n",
    "docker pull fiztehno/online_inference:v2 \n",
    "docker run -p 8000:8000 fiztehno/online_inference:v2\n",
    "```\n",
    "#### Building from scratch\n",
    "```\n",
    "docker build -t fiztehno/online_inference:v2 .\n",
    "docker run -p 8000:8000 fiztehno/online_inference:v2\n",
    "```\n",
    "#### Making requests\n",
    "```\n",
    "python make_request.py \n",
    "```\n",
    "#### Tests\n",
    "```\n",
    "pytest tests\n",
    "```\n",
    "### Project Organization\n",
    "    ├── app.py                      <- Main file with the app \n",
    "    │\n",
    "    ├── make_requests.py            <- Script to make requests \n",
    "    │ \n",
    "    ├── Dockerfile                  <- Docker file, that contains all the commands to assemble an image\n",
    "    │\n",
    "    ├── README.md                   <- The top-level README for developers using this project.\n",
    "    │\n",
    "    ├── data\n",
    "    │   └── raw                     <- The original, immutable data dump.\n",
    "    │\n",
    "    ├── models                      <- Trained and serialized models, model predictions, or model summaries\n",
    "    │\n",
    "    ├── notebooks                   <- Jupyter notebooks. \n",
    "    │\n",
    "    ├── requirements.txt            <- The requirements file for reproducing the analysis environment, e.g.\n",
    "    │                               generated with `pip freeze > requirements.txt`\n",
    "    │\n",
    "    ├── setup.py                    <- Makes project pip installable (pip install -e .) so src can be imported\n",
    "    ├── src                         <- Source code for use in this project.\n",
    "    │   ├── __init__.py             <- Makes src a Python module\n",
    "    │   │\n",
    "    │   ├── custom_transformers     <- Scripts to create custom transformers\n",
    "    │   │   └── squared_features.py <- Script to create SquaredFeatures transformer\n",
    "    │   │\n",
    "    │   └── utils.py                <- Script with common functions and classes. \n",
    "    │\n",
    "    ├── tests\n",
    "    │   │\n",
    "    │   ├── data                    <- Datasets for tests\n",
    "    │   │   \n",
    "    │   └── test_app.py             <- Script to test the whole app\n",
    "    │\n",
    "    └── transformers                <- Fitted and dumped transformers\n"
   ]
  },
  {
   "cell_type": "code",
   "execution_count": null,
   "id": "celtic-messenger",
   "metadata": {},
   "outputs": [],
   "source": []
  }
 ],
 "metadata": {
  "kernelspec": {
   "display_name": "Python 3",
   "language": "python",
   "name": "python3"
  },
  "language_info": {
   "codemirror_mode": {
    "name": "ipython",
    "version": 3
   },
   "file_extension": ".py",
   "mimetype": "text/x-python",
   "name": "python",
   "nbconvert_exporter": "python",
   "pygments_lexer": "ipython3",
   "version": "3.7.4"
  }
 },
 "nbformat": 4,
 "nbformat_minor": 5
}
